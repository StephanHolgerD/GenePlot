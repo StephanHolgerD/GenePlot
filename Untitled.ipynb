{
 "cells": [
  {
   "cell_type": "code",
   "execution_count": 1,
   "id": "ae24c682",
   "metadata": {},
   "outputs": [],
   "source": [
    "import matplotlib.pyplot as plt\n",
    "import json"
   ]
  },
  {
   "cell_type": "code",
   "execution_count": 2,
   "id": "d14713c4",
   "metadata": {},
   "outputs": [],
   "source": [
    "with open('4vis.json') as f:\n",
    "    ff = json.load(f)"
   ]
  },
  {
   "cell_type": "code",
   "execution_count": 3,
   "id": "cfebb650",
   "metadata": {},
   "outputs": [],
   "source": [
    "\n",
    "\n",
    "\n",
    "class ParseJson():\n",
    "    def __init__(self,j):\n",
    "        self.InputJson=j\n",
    "        self.ReadJ()\n",
    "        \n",
    "    def ReadJ(self):\n",
    "        with open(self.InputJson) as f:\n",
    "            ff = json.load(f)\n",
    "        self.DNAstart=ff['start']\n",
    "        self.DNAend=ff['end']\n",
    "        self.PrimerFVDStart= self.DNAstart + ff['primers']['fwd']['start']\n",
    "        self.PrimerFVDEnd= self.DNAstart + ff['primers']['fwd']['end']\n",
    "        self.PrimerRVStart= self.DNAstart + ff['primers']['rev']['start']\n",
    "        self.PrimerRVEnd= self.DNAstart + ff['primers']['rev']['end']\n",
    "        self.VariantStart=self.DNAstart + ff['variant']['posStart']\n",
    "        self.VariantEnd= self.DNAstart + ff['variant']['posEnd']\n",
    "        self.VarianHGVS = ff['variant']['hgvs'][-3:]\n",
    "        \n",
    "        self.Variation=list(ff['variation'].keys())\n",
    "        \n",
    "        \n",
    "        \n",
    "        \n",
    "        \n",
    "\n",
    "\n",
    "    "
   ]
  },
  {
   "cell_type": "code",
   "execution_count": 4,
   "id": "c8c5dc81",
   "metadata": {},
   "outputs": [],
   "source": [
    "\n",
    "class primerPlot():\n",
    "    def __init__(self,json):\n",
    "        self.Coords=ParseJson(json)\n",
    "        self.StartPlot()\n",
    "        self.Plot()\n",
    "        \n",
    "    def StartPlot(self):\n",
    "        fig,ax = plt.subplots(facecolor='beige')\n",
    "        self.fig=fig\n",
    "        self.ax=ax\n",
    "    def Plot(self):\n",
    "        self.ax.plot([self.Coords.DNAstart,self.Coords.DNAend],[1,1],color='black')\n",
    "        self.ax.plot([self.Coords.DNAstart,self.Coords.DNAend],[2,2],color='black')\n",
    "        \n",
    "        self.ax.plot([self.Coords.PrimerFVDStart,self.Coords.PrimerFVDEnd],[1.75,1.75],lw=5)\n",
    "        \n",
    "        \n",
    "        self.ax.plot([self.Coords.PrimerFVDStart,self.Coords.PrimerFVDEnd],[1.75,1.75],lw=5)\n",
    "        self.ax.plot([self.Coords.PrimerFVDEnd,self.Coords.PrimerRVStart],[1.75,1.75],lw=5,color='black')\n",
    "        \n",
    "        \n",
    "        self.ax.plot([self.Coords.PrimerRVStart,self.Coords.PrimerRVEnd],[1.25,1.25],lw=5)\n",
    "        \n",
    "        self.ax.plot([self.Coords.PrimerRVEnd,self.Coords.PrimerFVDStart],[1.25,1.25],lw=5,color='black')\n",
    "        \n",
    "        \n",
    "        self.ax.plot([self.Coords.VariantStart,self.Coords.VariantStart],\n",
    "                     [0,3],lw=1,color='black',linestyle='--')\n",
    "        \n",
    "        self.ax.text(self.Coords.VariantStart,3.1,self.Coords.VarianHGVS,ha='center')\n",
    "        \n",
    "        self.ax.text(self.Coords.VariantStart,-.25,f\"{self.Coords.VariantStart:,}bp\",ha='center')\n",
    "        \n",
    "        \n",
    "        self.Coords.Variation = [int(x) for x in self.Coords.Variation if int(x) < self.Coords.PrimerRVStart and \n",
    "                                int(x) > self.Coords.DNAstart]\n",
    "        for s in self.Coords.Variation:\n",
    "            self.ax.plot([int(s),int(s)],[4,5])\n",
    "            \n",
    "            \n",
    "        \n",
    "        self.ax.set(ylim=(0,4),xlim=(self.Coords.PrimerFVDStart-50,self.Coords.PrimerRVStart+50))\n",
    "        self.ax.axis('off')\n",
    "        return self.fig\n",
    "        "
   ]
  },
  {
   "cell_type": "code",
   "execution_count": 5,
   "id": "fdd72145",
   "metadata": {},
   "outputs": [
    {
     "data": {
      "image/png": "[encoded data removed]",
      "text/plain": [
       "<Figure size 432x288 with 1 Axes>"
      ]
     },
     "metadata": {},
     "output_type": "display_data"
    }
   ],
   "source": [
    "x = primerPlot('4vis.json')\n",
    "plt.savefig('primer4Vis.png')"
   ]
  },
  {
   "cell_type": "code",
   "execution_count": null,
   "id": "afac272e",
   "metadata": {},
   "outputs": [],
   "source": [
    "x"
   ]
  },
  {
   "cell_type": "code",
   "execution_count": null,
   "id": "a0e24232",
   "metadata": {},
   "outputs": [],
   "source": []
  }
 ],
 "metadata": {
  "kernelspec": {
   "display_name": "Python 3 (ipykernel)",
   "language": "python",
   "name": "python3"
  },
  "language_info": {
   "codemirror_mode": {
    "name": "ipython",
    "version": 3
   },
   "file_extension": ".py",
   "mimetype": "text/x-python",
   "name": "python",
   "nbconvert_exporter": "python",
   "pygments_lexer": "ipython3",
   "version": "3.9.1"
  }
 },
 "nbformat": 4,
 "nbformat_minor": 5
}
